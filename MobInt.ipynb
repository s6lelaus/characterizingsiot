{
 "cells": [
  {
   "cell_type": "code",
   "execution_count": 1,
   "id": "c9fadc83-e907-4c09-98fd-748a73865bcb",
   "metadata": {},
   "outputs": [],
   "source": [
    "import pandas as pd\n",
    "\n",
    "# The Parser module is used to convert the raw data to a standard format\n",
    "from mobvis.preprocessing.parser import Parser as par\n",
    "\n",
    "# The Locations module is used to find the Geo-locations of the trace, used by almost all metrics\n",
    "from mobvis.metrics.utils.Locations import Locations as loc\n",
    "# The HomeLocations module is used to find the Home-locations of the trace, used by some metrics\n",
    "from mobvis.metrics.utils.HomeLocations import HomeLocations as hloc\n",
    "# The Contacts module is used to detect the Contacts between the nodes, used by Social metrics\n",
    "from mobvis.metrics.utils.Contacts import Contacts as cnt\n",
    "\n",
    "# The MetricBuilder module can be used to instantiate all the metrics \n",
    "from mobvis.metrics.utils.MetricBuilder import MetricBuilder as mb\n",
    "\n",
    "# The metric and spatial plotters contains all the visualizations of MobVis\n",
    "from mobvis.plots.metric_plotter import *\n",
    "from mobvis.plots.spatial_plotter import *"
   ]
  },
  {
   "cell_type": "markdown",
   "id": "9130ea19",
   "metadata": {},
   "source": [
    "Script to interpolate missing data"
   ]
  },
  {
   "cell_type": "code",
   "execution_count": 3,
   "id": "83698722",
   "metadata": {},
   "outputs": [],
   "source": [
    "\"\"\" ADD THE TRACE'S FOLDER NAME HERE\"\"\"\n",
    "tracename = \"aSIOTmm_30-07-2024_18.44.34.013/\" \n",
    "\n",
    "\n",
    "prepath = \"./traces/\" + tracename\n",
    "# path to the fixed info.csv\n",
    "infoFixed = pd.read_csv(prepath + \"infoFixed.csv\", names=[\"id\", \"owner\", \"type\", \"old_id\"], delimiter=\",\", skiprows=1)\n"
   ]
  },
  {
   "cell_type": "code",
   "execution_count": 4,
   "id": "3d9b2fb9",
   "metadata": {},
   "outputs": [],
   "source": [
    "# mobility classes\n",
    "highMobility = [\"smartphone\", \"wristband\"]\n",
    "midMobility = [\"tablet\", \"laptop\"]\n",
    "lowMobility = [\"tv\", \"console\"]\n",
    "\n",
    "def categorize_mobility(device_type):\n",
    "    if device_type in highMobility:\n",
    "        return 'highMobility'\n",
    "    elif device_type in midMobility:\n",
    "        return 'midMobility'\n",
    "    elif device_type in lowMobility:\n",
    "        return 'lowMobility'\n",
    "    else:\n",
    "        return 'other' # it should never be other when human nodes are removed\n",
    "\n",
    "def getLowMobilityIDs():\n",
    "    return infoFixed[infoFixed['mobility'] == 'lowMobility']['id'].tolist()\n",
    "\n",
    "# add new mobility class column to dataframe\n",
    "infoFixed['mobility'] = infoFixed['type'].apply(categorize_mobility)\n"
   ]
  },
  {
   "cell_type": "code",
   "execution_count": 5,
   "id": "616d3c71",
   "metadata": {},
   "outputs": [],
   "source": [
    "# def interpolateTrace(df):\n",
    "#     maxTimestamp = int(df['timestamp'].max())\n",
    "#     allTimestamps = list(range(0, maxTimestamp + 30, 30))\n",
    "    \n",
    "#     for id in df['id'].unique():\n",
    "\n",
    "# interpolates low mobility devices\n",
    "def interpolateLowMobility(df):\n",
    "    maxTimestamp = int(df['timestamp'].max())\n",
    "\n",
    "\n",
    "    all_times = pd.DataFrame({\n",
    "        'timestamp': np.arange(0, maxTimestamp + 30, 30)\n",
    "    })\n",
    "\n",
    "    # interpolation for all ids\n",
    "    interpolated_df = pd.DataFrame()\n",
    "    for trace_id in getLowMobilityIDs():\n",
    "        # current id dataframe\n",
    "        id_df = df[df['id'] == trace_id]\n",
    "\n",
    "        # Merge with all_times df to include missing timestamps\n",
    "        id_df_full = pd.merge(all_times, id_df, on='timestamp', how='left')\n",
    "\n",
    "        # Fill missing IDs\n",
    "        id_df_full['id'] = trace_id\n",
    "\n",
    "        # Interpolation\n",
    "        id_df_full['x'] = id_df_full['x'].interpolate(method='linear')\n",
    "        id_df_full['y'] = id_df_full['y'].interpolate(method='linear')\n",
    "\n",
    "        interpolated_df = pd.concat([interpolated_df, id_df_full])\n",
    "\n",
    "    # Reorder columns\n",
    "    interpolated_df = interpolated_df[['id', 'timestamp', 'x', 'y']]\n",
    "\n",
    "    # Sort to get it like the parsed version\n",
    "    interpolated_df = interpolated_df.sort_values(by=['id', 'timestamp'])\n",
    "\n",
    "    return interpolated_df\n"
   ]
  },
  {
   "cell_type": "code",
   "execution_count": null,
   "id": "f1e5adc1",
   "metadata": {},
   "outputs": [],
   "source": [
    "posTraceCSV = pd.read_csv(prepath + \"pos_traceAddedZerosAndFixed.csv\", names=['id', 'timestamp', 'x', 'y'], sep=\",\", skiprows=1)\n",
    "maxTime = int(posTraceCSV['timestamp'].max())\n",
    "print(maxTime)\n",
    "\n",
    "# Interpolated trace of low mobility devices\n",
    "interpolatedLowMobility = interpolateLowMobility(posTraceCSV)\n",
    "interpolatedLowMobility.to_csv(prepath + \"lowMobilityInterpolated.csv\", index=False, header=True)\n",
    "\n"
   ]
  },
  {
   "cell_type": "code",
   "execution_count": null,
   "id": "9efeba98",
   "metadata": {},
   "outputs": [],
   "source": [
    "# Add interpolated trace to the original fixed trace\n",
    "posTraceWithLowMobility = pd.concat([posTraceCSV, interpolatedLowMobility])\n",
    "posTraceWithLowMobility = posTraceWithLowMobility.sort_values(by=['id', 'timestamp'])\n",
    "# Let MobVis parse the trace once again to it's format\n",
    "posTraceWithLowMobilityParsed = par.parse(posTraceWithLowMobility, is_ordered=False)\n",
    "posTraceWithLowMobilityParsed.to_csv(prepath + \"pos_traceAddedZerosAndFixedAndLowsInterpolated.csv\", index=False, header=True)\n"
   ]
  },
  {
   "cell_type": "code",
   "execution_count": null,
   "id": "6391957a",
   "metadata": {},
   "outputs": [],
   "source": [
    "asd = posTraceWithLowMobilityParsed[posTraceWithLowMobilityParsed['x'].isnull()]\n",
    "print(len(asd))\n",
    "# remove data points with missing x or y\n",
    "posTraceWithLowMobilityParsed1 = posTraceWithLowMobilityParsed.dropna(subset=['x', 'y'])\n",
    "posTraceWithLowMobilityParsed1"
   ]
  },
  {
   "cell_type": "code",
   "execution_count": 9,
   "id": "d2277be1",
   "metadata": {},
   "outputs": [],
   "source": [
    "# Interpolated trace with null values removed\n",
    "posTraceWithLowMobilityParsed1.to_csv(prepath + \"pos_traceAddedZerosAndFixedAndLowsInterpolatedNaNRemoved.csv\", index=False, header=True)"
   ]
  }
 ],
 "metadata": {
  "kernelspec": {
   "display_name": "Python 3 (ipykernel)",
   "language": "python",
   "name": "python3"
  },
  "language_info": {
   "codemirror_mode": {
    "name": "ipython",
    "version": 3
   },
   "file_extension": ".py",
   "mimetype": "text/x-python",
   "name": "python",
   "nbconvert_exporter": "python",
   "pygments_lexer": "ipython3",
   "version": "3.11.9"
  }
 },
 "nbformat": 4,
 "nbformat_minor": 5
}
