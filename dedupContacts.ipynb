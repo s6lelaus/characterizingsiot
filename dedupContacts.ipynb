{
 "cells": [
  {
   "cell_type": "code",
   "execution_count": 1,
   "id": "c9fadc83-e907-4c09-98fd-748a73865bcb",
   "metadata": {},
   "outputs": [],
   "source": [
    "import pandas as pd\n",
    "\n",
    "# The Parser module is used to convert the raw data to a standard format\n",
    "from mobvis.preprocessing.parser import Parser as par\n",
    "\n",
    "# The Locations module is used to find the Geo-locations of the trace, used by almost all metrics\n",
    "from mobvis.metrics.utils.Locations import Locations as loc\n",
    "# The HomeLocations module is used to find the Home-locations of the trace, used by some metrics\n",
    "from mobvis.metrics.utils.HomeLocations import HomeLocations as hloc\n",
    "# The Contacts module is used to detect the Contacts between the nodes, used by Social metrics\n",
    "from mobvis.metrics.utils.Contacts import Contacts as cnt\n",
    "\n",
    "# The MetricBuilder module can be used to instantiate all the metrics \n",
    "from mobvis.metrics.utils.MetricBuilder import MetricBuilder as mb\n",
    "\n",
    "# The metric and spatial plotters contains all the visualizations of MobVis\n",
    "from mobvis.plots.metric_plotter import *\n",
    "from mobvis.plots.spatial_plotter import *"
   ]
  },
  {
   "cell_type": "code",
   "execution_count": null,
   "id": "49a0c7c1",
   "metadata": {},
   "outputs": [],
   "source": [
    "traceRoot = \"./traces/\"\n",
    "traceName = \"aSIOTmm_30-07-2024_18.44.34.013/\" # EDIT HERE\n",
    "# Add the path to the unfixed info file\n",
    "infoUnfixedH = pd.read_csv(traceRoot + traceName + \"info.csv\", delimiter=\",\", names=[\"id\", \"owner\", \"type\"], skiprows=1)\n",
    "# Add the path to the unfixed contacts_trace file\n",
    "siotContactsTraceH = pd.read_csv(traceRoot + traceName + \"contacts_trace.csv\", delimiter=\",\", names=[\"id1\", \"id2\", \"tStart\", \"tEnd\", \"id1_start_pos_x\", \"id1_start_pos_y\", \"id2_start_pos_x\", \"id2_start_pos_y\", \"id1_end_pos_x\", \"id1_end_pos_y\", \"id2_end_pos_x\", \"id2_end_pos_y\"], skiprows=1)\n"
   ]
  },
  {
   "cell_type": "code",
   "execution_count": null,
   "id": "26100f65-34f8-4a4b-95a7-c502f0f682a9",
   "metadata": {},
   "outputs": [],
   "source": [
    "def getIDsOfHumanNodes(df):\n",
    "    df['type'] = df['type'].str.strip().str.lower()\n",
    "    humanNodes = df[df['type'] == 'humannode']\n",
    "    return humanNodes[\"id\"].unique()\n"
   ]
  },
  {
   "cell_type": "code",
   "execution_count": null,
   "id": "d3d88303",
   "metadata": {},
   "outputs": [],
   "source": [
    "infoUnfixedH['type'] = infoUnfixedH['type'].str.strip().str.lower()\n",
    "\n",
    "humanNodesH = getIDsOfHumanNodes(infoUnfixedH)\n",
    "\n",
    "copy = siotContactsTraceH\n",
    "# print(copy)\n",
    "filtered = copy\n",
    "filtered = filtered[~filtered['id1'].isin(humanNodesH)]\n",
    "filtered = filtered[~filtered['id2'].isin(humanNodesH)]\n",
    "\n",
    "filtered['set'] = filtered.apply(lambda x: frozenset({x['id1'], x['id2']}), axis=1)\n",
    "\n",
    "\n",
    "# drop duplicates\n",
    "noDuplicates = filtered.drop_duplicates(subset=['tStart', 'tEnd', 'set'])\n",
    "# noDuplicates\n",
    "    # df = df.drop(columns=['set'])\n",
    "noDuplicates.to_csv(traceRoot + traceName + \"contacts_traceNoHumansNoDups.csv\", index=False, header=True)"
   ]
  },
  {
   "cell_type": "code",
   "execution_count": null,
   "id": "7d321cf8",
   "metadata": {},
   "outputs": [],
   "source": [
    "# Fix Contacts\n",
    "infoFixedCSVL = pd.read_csv(traceRoot + traceName + \"infoFixed.csv\", delimiter=\",\", names=[\"id\", \"owner\", \"type\", \"old_id\"], skiprows=1)\n",
    "id_mappingL = dict(zip(infoFixedCSVL['old_id'], infoFixedCSVL['id']))\n",
    "\n",
    "\n",
    "    # Replace old IDs with new IDs using the mapping\n",
    "noDuplicates['id1'] = noDuplicates['id1'].map(id_mappingL)\n",
    "noDuplicates['id2'] = noDuplicates['id2'].map(id_mappingL)\n",
    "    # convert id to int\n",
    "noDuplicates['id1'] = noDuplicates['id1'].astype(int)\n",
    "noDuplicates['id2'] = noDuplicates['id2'].astype(int)\n",
    "noDuplicates = noDuplicates.drop(columns=['set'])\n",
    "noDuplicates.to_csv(traceRoot + traceName + \"contacts_traceNoHumansNoDupsFixed.csv\", index=False, header=True)"
   ]
  }
 ],
 "metadata": {
  "kernelspec": {
   "display_name": "Python 3 (ipykernel)",
   "language": "python",
   "name": "python3"
  },
  "language_info": {
   "codemirror_mode": {
    "name": "ipython",
    "version": 3
   },
   "file_extension": ".py",
   "mimetype": "text/x-python",
   "name": "python",
   "nbconvert_exporter": "python",
   "pygments_lexer": "ipython3",
   "version": "3.11.9"
  }
 },
 "nbformat": 4,
 "nbformat_minor": 5
}
