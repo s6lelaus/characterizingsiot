{
 "cells": [
  {
   "cell_type": "code",
   "execution_count": 228,
   "metadata": {},
   "outputs": [],
   "source": [
    "import pandas as pd\n",
    "import networkx as nx\n",
    "\n",
    "traceRoot = \"./traces/\"\n",
    "traceToAnalyze = 4 # EDIT THIS TO MATCH YOUR TRACE\n",
    "traceNames = {\n",
    "    1: \"trace1_09-06-2024_03.17.29.711\", \n",
    "    2: \"trace2_09-06-2024_03.17.41.719\", \n",
    "    3: \"trace3_09-06-2024_03.19.12.999\",\n",
    "    4: \"aSIOTmm_30-07-2024_18.39.23.577\", # 0.9\n",
    "    5: \"aSIOTmm_30-07-2024_18.44.34.013\" # 0.1\n",
    "    }\n",
    "contactsPath = traceRoot + traceNames[traceToAnalyze] + \"/contacts_traceNoHumansNoDupsFixed.csv\"\n",
    "metricsPath = traceRoot + traceNames[traceToAnalyze] + \"/metrics/\"\n",
    "cachePath = traceRoot + traceNames[traceToAnalyze] + \"/cached/\"\n",
    "plotsPath = traceRoot + traceNames[traceToAnalyze] + \"/plots/\""
   ]
  },
  {
   "cell_type": "code",
   "execution_count": 218,
   "metadata": {},
   "outputs": [],
   "source": [
    "def createValidSegmentList(df):\n",
    "    df['2groups'] = df[['id1', 'id2']].values.tolist()\n",
    "    df['segmentlist'] = df[['tStart', 'tEnd']].apply(lambda x: [list(x)], axis=1)\n",
    "    df.drop(columns=['id1', 'id2', 'tStart', 'tEnd'], inplace=True)\n",
    "    return df\n",
    "\n",
    "# From the pseudocode given by Wang et al. \n",
    "def construct_vg_graph(df):\n",
    "    \n",
    "    vg_graph = nx.DiGraph()\n",
    "\n",
    "    # Iterate over rows\n",
    "    for index, row in df.iterrows():\n",
    "        vertices = row['2groups']\n",
    "        segment_list = row['segmentlist']\n",
    "        \n",
    "        # Ensure vertices exist in the graph with an empty 'segments' attribute\n",
    "        for vertex in vertices:\n",
    "            if not vg_graph.has_node(vertex):\n",
    "                vg_graph.add_node(vertex, segments=[])\n",
    "\n",
    "        # Add directed edge with segment list\n",
    "        if len(vertices) == 2:\n",
    "            vg_graph.add_edge(vertices[0], vertices[1], segments=segment_list)\n",
    "    \n",
    "    return vg_graph\n",
    "\n",
    "def VG_growth(graph, alpha, min_dur, min_wei, valid_groups):\n",
    "    for u in graph.nodes():\n",
    "        beta = set(alpha)\n",
    "        beta.add(u)\n",
    "        \n",
    "        #\n",
    "        V_beta = list(graph.predecessors(u))\n",
    "        \n",
    "        if V_beta:\n",
    "            for v in V_beta:\n",
    "                # Calculate duration of the new group\n",
    "                segments = graph.edges[v, u]['segments']\n",
    "                group_duration = sum(seg[1] - seg[0] for seg in segments if seg[1] - seg[0] >= min_dur)\n",
    "                valid_groups.append((beta.union({v}), group_duration))\n",
    "                \n",
    "            # Get edges of V_beta and filter by segment conditions\n",
    "            E_V_beta = graph.in_edges(V_beta, data=True)\n",
    "            \n",
    "            if E_V_beta:\n",
    "                for vi, vj, data in list(E_V_beta):\n",
    "                    segments = data['segments']\n",
    "                    u_segments = graph.nodes[u]['segments']\n",
    "                    if u_segments:\n",
    "                        segments = adjust_segments(segments, u_segments)\n",
    "                    if not satisfies_conditions(segments, min_dur, min_wei):\n",
    "                        graph.remove_edge(vi, vj)\n",
    "                \n",
    "                # After filtering, check if there are still edges\n",
    "                E_V_beta_filtered = graph.in_edges(V_beta, data=True)\n",
    "                if E_V_beta_filtered:\n",
    "                    conditional_graph = graph.subgraph(V_beta)\n",
    "                    VG_growth(conditional_graph, beta, min_dur, min_wei, valid_groups)\n",
    "\n",
    "def adjust_segments(segments, u_segments):\n",
    "    adjusted_segments = []\n",
    "    for seg in segments:\n",
    "        new_seg = [max(seg[0], u_segments[0][0]), min(seg[1], u_segments[0][1])]\n",
    "        if new_seg[0] <= new_seg[1]:\n",
    "            adjusted_segments.append(new_seg)\n",
    "    return adjusted_segments\n",
    "\n",
    "def satisfies_conditions(segments, min_dur, min_wei):\n",
    "    total_duration = sum(seg[1] - seg[0] for seg in segments)\n",
    "    return total_duration >= min_dur and len(segments) >= min_wei\n"
   ]
  },
  {
   "cell_type": "code",
   "execution_count": 65,
   "metadata": {},
   "outputs": [],
   "source": [
    "# # Test data from Wang et al.\n",
    "# data = {\n",
    "#     'user': ['u1']*10 + ['u2']*10 + ['u3']*10 + ['u4']*10 + ['u5']*10 + ['u6']*10,\n",
    "#     't': list(range(10)) * 6,\n",
    "#     'x': [\n",
    "#         92.6, 93.44, 97.12, 94.52, 94.52, 95.12, 95.68, 97.72, 94.16, 90.2,\n",
    "#         97.36, 94.6, 92.08, 93.8, 96.72, 97.32, 93.84, 92.92, 95.68, 95.56,\n",
    "#         94.36, 95.4, 92.52, 96.04, 96.04, 97.68, 98.56, 100.16, 98.92, 96.8,\n",
    "#         91.2, 90, 91.16, 92.36, 91.6, 95.28, 92.44, 97.44, 98.92, 96.64,\n",
    "#         102.16, 102.16, 101.96, 99.48, 98.04, 101.36, 101.36, 100.6, 99.88, 98.84,\n",
    "#         93.96, 90.48, 91.32, 91.04, 89.68, 90.64, 89.84, 86.84, 86.84, 87.28,\n",
    "#     ],\n",
    "#     'y': [\n",
    "#         22.36, 23.12, 19.88, 20.2, 20.2, 22.84, 22.44, 26.16, 27.88, 31.72,\n",
    "#         28.56, 24.68, 22.88, 25.88, 29.8, 30, 32.48, 30.52, 29.12, 29.2,\n",
    "#         12.96, 13.28, 13.04, 14.56, 13.84, 12.04, 15.64, 17.04, 17.32, 17.04,\n",
    "#         31.12, 31.2, 29.36, 29.32, 26.24, 26.24, 29.04, 29.04, 25.4, 25.4,\n",
    "#         27.32, 27.32, 26.44, 28.64, 31.8, 28.32, 28.32, 30, 30.92, 33.48,\n",
    "#         30.52, 29.6, 29.8, 29.56, 26.72, 29, 32.84, 33.44, 33.44, 33.24,\n",
    "#     ],\n",
    "#     'z': [\n",
    "#         7.92, 7.92, 7.92, 9.06, 9.06, 9.06, 9.06, 9.06, 9.06, 9.06,\n",
    "#         5.66, 5.66, 5.66, 5.66, 5.66, 5.66, 5.66, 5.66, 5.66, 5.66,\n",
    "#         10.4, 10.4, 10.4, 10.4, 10.4, 10.4, 10.4, 10.4, 10.4, 10.4,\n",
    "#         9.06, 9.06, 7.92, 7.92, 7.92, 7.92, 7.92, 7.92, 7.92, 7.92,\n",
    "#         7.92, 7.92, 7.92, 7.92, 7.92, 7.92, 7.92, 7.92, 7.92, 7.92,\n",
    "#         12.46, 12.46, 12.46, 12.46, 12.46, 12.46, 12.46, 12.46, 12.46, 12.46,\n",
    "#     ]\n",
    "# }\n",
    "\n",
    "\n",
    "# df = pd.DataFrame(data)\n",
    "# df\n"
   ]
  },
  {
   "cell_type": "markdown",
   "metadata": {},
   "source": [
    "### Usage: \n",
    "- import your contacts (make sure that id1 is always the smaller id), which implicitly obeys the distance constraint\n",
    "- set the min_dur and min_wei parameters\n",
    "- create a valid segment list with createValidSegmentsList(sortedContacts)\n",
    "- construct a vg_graph with the help of the 2groups valid segments\n",
    "- let the vg_growth algorithm run\n",
    "- all valid groups will be stored in the valid_groups variable"
   ]
  },
  {
   "cell_type": "code",
   "execution_count": null,
   "metadata": {},
   "outputs": [],
   "source": [
    "contacts = pd.read_csv(contactsPath, delimiter=',', names=['id1', 'id2', 'tStart', 'tEnd', \"id1_start_pos_x\",\"id1_start_pos_y\",\"id2_start_pos_x\",\"id2_start_pos_y\",\"id1_end_pos_x\",\"id1_end_pos_y\",\"id2_end_pos_x\",\"id2_end_pos_y\"], skiprows=1)\n",
    "contacts = contacts.astype({'id1': int, 'id2': int, 'tStart': int, 'tEnd': int})\n",
    "\n",
    "# drop columns\n",
    "contacts = contacts.drop(columns=[\"id1_start_pos_x\",\"id1_start_pos_y\",\"id2_start_pos_x\",\"id2_start_pos_y\",\"id1_end_pos_x\",\"id1_end_pos_y\",\"id2_end_pos_x\",\"id2_end_pos_y\"])\n",
    "sortedContacts = contacts.sort_values(by=['tEnd'])\n",
    "sortedContacts\n",
    "# rename id1 to id2 and id2 to id1\n",
    "sortedContacts.rename(columns={'id1':'id2', 'id2':'id1'}, inplace=True)\n",
    "sortedContacts\n",
    "# swap values from id1 and id2\n",
    "sortedContacts['id1'], sortedContacts['id2'] = sortedContacts['id2'], sortedContacts['id1']\n",
    "sortedContacts\n",
    "\n",
    "min_dur = 0\n",
    "min_wei = 0\n",
    "\n",
    "valid_groups = []\n",
    "G2ValidSegments = createValidSegmentList(sortedContacts)\n",
    "vg_graph = construct_vg_graph(G2ValidSegments)\n",
    "VG_growth(vg_graph, set(), min_dur, min_wei, valid_groups)\n",
    "\n",
    "# \n",
    "# sorted valid groups by duration\n",
    "valid_groups = sorted(valid_groups, key=lambda x: x[1], reverse=True)\n",
    "# if duration is 0 then remove it from the list\n",
    "valid_groups = [(group, duration) for group, duration in valid_groups if duration > 0]\n",
    "\n",
    "\n"
   ]
  },
  {
   "cell_type": "code",
   "execution_count": null,
   "metadata": {},
   "outputs": [],
   "source": [
    "print(f\"Number of valid groups: {len(valid_groups)}\")\n",
    "# for group, duration in valid_groups:\n",
    "#     print(f\"{group}: {duration}\")\n",
    "# print amount of times the same group appears\n",
    "\n",
    "# convert valid groups to a dataframe\n",
    "valid_groups_df = pd.DataFrame(valid_groups, columns=['group', 'duration'])\n",
    "valid_groups_df['group'] = valid_groups_df['group'].apply(lambda x: sorted(list(x)))\n",
    "# get the groups that have len(group) == 2 \n",
    "groups2 = valid_groups_df[valid_groups_df['group'].apply(lambda x: len(x) == 2)]\n",
    "groups3 = valid_groups_df[valid_groups_df['group'].apply(lambda x: len(x) == 3)]\n",
    "groups5 = valid_groups_df[valid_groups_df['group'].apply(lambda x: len(x) == 5)]\n",
    "# make group to a string\n",
    "\n",
    "groups2['group'] = groups2['group'].apply(lambda x: str(x))\n",
    "groups2 = groups2.groupby('group').size().reset_index(name='count').sort_values(by=['count'], ascending=True)\n",
    "groups2\n",
    "\n",
    "print(groups5)"
   ]
  },
  {
   "cell_type": "code",
   "execution_count": 183,
   "metadata": {},
   "outputs": [
    {
     "data": {
      "application/vnd.plotly.v1+json": {
       "config": {
        "plotlyServerURL": "https://plot.ly"
       },
       "data": [
        {
         "hovertemplate": "id1=%{x}<br>id2=%{y}<extra></extra>",
         "legendgroup": "",
         "marker": {
          "color": "#636efa",
          "size": 8,
          "symbol": "circle"
         },
         "mode": "markers",
         "name": "",
         "orientation": "v",
         "showlegend": false,
         "type": "scatter",
         "x": [
          0,
          488,
          488,
          488,
          486,
          475,
          474,
          462,
          456,
          452,
          452,
          451,
          493,
          446,
          441,
          438,
          427,
          427,
          42,
          414,
          413,
          409,
          404,
          404,
          40,
          445,
          4,
          495,
          50,
          90,
          89,
          85,
          84,
          8,
          77,
          77,
          74,
          73,
          7,
          69,
          496,
          67,
          6,
          540,
          54,
          533,
          532,
          53,
          522,
          510,
          51,
          506,
          505,
          66,
          96,
          396,
          395,
          269,
          264,
          261,
          259,
          251,
          250,
          240,
          211,
          207,
          2,
          187,
          27,
          181,
          156,
          146,
          144,
          125,
          118,
          116,
          115,
          111,
          111,
          110,
          10,
          157,
          395,
          272,
          278,
          39,
          381,
          381,
          381,
          378,
          376,
          372,
          351,
          351,
          35,
          346,
          274,
          343,
          31,
          304,
          303,
          297,
          297,
          295,
          285,
          285,
          284,
          284,
          28,
          321,
          97
         ],
         "xaxis": "x",
         "y": [
          1,
          491,
          490,
          489,
          487,
          476,
          475,
          463,
          457,
          454,
          453,
          452,
          494,
          448,
          442,
          439,
          429,
          428,
          44,
          415,
          414,
          410,
          406,
          405,
          41,
          446,
          5,
          496,
          52,
          91,
          90,
          86,
          86,
          9,
          79,
          78,
          75,
          74,
          8,
          70,
          498,
          68,
          8,
          541,
          56,
          534,
          533,
          54,
          523,
          511,
          52,
          508,
          506,
          68,
          351,
          397,
          396,
          270,
          265,
          262,
          260,
          253,
          251,
          241,
          212,
          208,
          4,
          188,
          29,
          182,
          158,
          147,
          145,
          126,
          119,
          117,
          116,
          113,
          112,
          111,
          11,
          158,
          397,
          273,
          279,
          41,
          384,
          383,
          382,
          379,
          377,
          373,
          388,
          387,
          36,
          347,
          275,
          344,
          32,
          306,
          304,
          299,
          298,
          296,
          287,
          286,
          287,
          285,
          29,
          322,
          98
         ],
         "yaxis": "y"
        }
       ],
       "layout": {
        "height": 560,
        "legend": {
         "tracegroupgap": 0
        },
        "shapes": [
         {
          "line": {
           "color": "red",
           "width": 2
          },
          "type": "line",
          "x0": 0,
          "x1": 560,
          "y0": 0,
          "y1": 560
         }
        ],
        "template": {
         "data": {
          "bar": [
           {
            "error_x": {
             "color": "#2a3f5f"
            },
            "error_y": {
             "color": "#2a3f5f"
            },
            "marker": {
             "line": {
              "color": "#E5ECF6",
              "width": 0.5
             },
             "pattern": {
              "fillmode": "overlay",
              "size": 10,
              "solidity": 0.2
             }
            },
            "type": "bar"
           }
          ],
          "barpolar": [
           {
            "marker": {
             "line": {
              "color": "#E5ECF6",
              "width": 0.5
             },
             "pattern": {
              "fillmode": "overlay",
              "size": 10,
              "solidity": 0.2
             }
            },
            "type": "barpolar"
           }
          ],
          "carpet": [
           {
            "aaxis": {
             "endlinecolor": "#2a3f5f",
             "gridcolor": "white",
             "linecolor": "white",
             "minorgridcolor": "white",
             "startlinecolor": "#2a3f5f"
            },
            "baxis": {
             "endlinecolor": "#2a3f5f",
             "gridcolor": "white",
             "linecolor": "white",
             "minorgridcolor": "white",
             "startlinecolor": "#2a3f5f"
            },
            "type": "carpet"
           }
          ],
          "choropleth": [
           {
            "colorbar": {
             "outlinewidth": 0,
             "ticks": ""
            },
            "type": "choropleth"
           }
          ],
          "contour": [
           {
            "colorbar": {
             "outlinewidth": 0,
             "ticks": ""
            },
            "colorscale": [
             [
              0,
              "#0d0887"
             ],
             [
              0.1111111111111111,
              "#46039f"
             ],
             [
              0.2222222222222222,
              "#7201a8"
             ],
             [
              0.3333333333333333,
              "#9c179e"
             ],
             [
              0.4444444444444444,
              "#bd3786"
             ],
             [
              0.5555555555555556,
              "#d8576b"
             ],
             [
              0.6666666666666666,
              "#ed7953"
             ],
             [
              0.7777777777777778,
              "#fb9f3a"
             ],
             [
              0.8888888888888888,
              "#fdca26"
             ],
             [
              1,
              "#f0f921"
             ]
            ],
            "type": "contour"
           }
          ],
          "contourcarpet": [
           {
            "colorbar": {
             "outlinewidth": 0,
             "ticks": ""
            },
            "type": "contourcarpet"
           }
          ],
          "heatmap": [
           {
            "colorbar": {
             "outlinewidth": 0,
             "ticks": ""
            },
            "colorscale": [
             [
              0,
              "#0d0887"
             ],
             [
              0.1111111111111111,
              "#46039f"
             ],
             [
              0.2222222222222222,
              "#7201a8"
             ],
             [
              0.3333333333333333,
              "#9c179e"
             ],
             [
              0.4444444444444444,
              "#bd3786"
             ],
             [
              0.5555555555555556,
              "#d8576b"
             ],
             [
              0.6666666666666666,
              "#ed7953"
             ],
             [
              0.7777777777777778,
              "#fb9f3a"
             ],
             [
              0.8888888888888888,
              "#fdca26"
             ],
             [
              1,
              "#f0f921"
             ]
            ],
            "type": "heatmap"
           }
          ],
          "heatmapgl": [
           {
            "colorbar": {
             "outlinewidth": 0,
             "ticks": ""
            },
            "colorscale": [
             [
              0,
              "#0d0887"
             ],
             [
              0.1111111111111111,
              "#46039f"
             ],
             [
              0.2222222222222222,
              "#7201a8"
             ],
             [
              0.3333333333333333,
              "#9c179e"
             ],
             [
              0.4444444444444444,
              "#bd3786"
             ],
             [
              0.5555555555555556,
              "#d8576b"
             ],
             [
              0.6666666666666666,
              "#ed7953"
             ],
             [
              0.7777777777777778,
              "#fb9f3a"
             ],
             [
              0.8888888888888888,
              "#fdca26"
             ],
             [
              1,
              "#f0f921"
             ]
            ],
            "type": "heatmapgl"
           }
          ],
          "histogram": [
           {
            "marker": {
             "pattern": {
              "fillmode": "overlay",
              "size": 10,
              "solidity": 0.2
             }
            },
            "type": "histogram"
           }
          ],
          "histogram2d": [
           {
            "colorbar": {
             "outlinewidth": 0,
             "ticks": ""
            },
            "colorscale": [
             [
              0,
              "#0d0887"
             ],
             [
              0.1111111111111111,
              "#46039f"
             ],
             [
              0.2222222222222222,
              "#7201a8"
             ],
             [
              0.3333333333333333,
              "#9c179e"
             ],
             [
              0.4444444444444444,
              "#bd3786"
             ],
             [
              0.5555555555555556,
              "#d8576b"
             ],
             [
              0.6666666666666666,
              "#ed7953"
             ],
             [
              0.7777777777777778,
              "#fb9f3a"
             ],
             [
              0.8888888888888888,
              "#fdca26"
             ],
             [
              1,
              "#f0f921"
             ]
            ],
            "type": "histogram2d"
           }
          ],
          "histogram2dcontour": [
           {
            "colorbar": {
             "outlinewidth": 0,
             "ticks": ""
            },
            "colorscale": [
             [
              0,
              "#0d0887"
             ],
             [
              0.1111111111111111,
              "#46039f"
             ],
             [
              0.2222222222222222,
              "#7201a8"
             ],
             [
              0.3333333333333333,
              "#9c179e"
             ],
             [
              0.4444444444444444,
              "#bd3786"
             ],
             [
              0.5555555555555556,
              "#d8576b"
             ],
             [
              0.6666666666666666,
              "#ed7953"
             ],
             [
              0.7777777777777778,
              "#fb9f3a"
             ],
             [
              0.8888888888888888,
              "#fdca26"
             ],
             [
              1,
              "#f0f921"
             ]
            ],
            "type": "histogram2dcontour"
           }
          ],
          "mesh3d": [
           {
            "colorbar": {
             "outlinewidth": 0,
             "ticks": ""
            },
            "type": "mesh3d"
           }
          ],
          "parcoords": [
           {
            "line": {
             "colorbar": {
              "outlinewidth": 0,
              "ticks": ""
             }
            },
            "type": "parcoords"
           }
          ],
          "pie": [
           {
            "automargin": true,
            "type": "pie"
           }
          ],
          "scatter": [
           {
            "fillpattern": {
             "fillmode": "overlay",
             "size": 10,
             "solidity": 0.2
            },
            "type": "scatter"
           }
          ],
          "scatter3d": [
           {
            "line": {
             "colorbar": {
              "outlinewidth": 0,
              "ticks": ""
             }
            },
            "marker": {
             "colorbar": {
              "outlinewidth": 0,
              "ticks": ""
             }
            },
            "type": "scatter3d"
           }
          ],
          "scattercarpet": [
           {
            "marker": {
             "colorbar": {
              "outlinewidth": 0,
              "ticks": ""
             }
            },
            "type": "scattercarpet"
           }
          ],
          "scattergeo": [
           {
            "marker": {
             "colorbar": {
              "outlinewidth": 0,
              "ticks": ""
             }
            },
            "type": "scattergeo"
           }
          ],
          "scattergl": [
           {
            "marker": {
             "colorbar": {
              "outlinewidth": 0,
              "ticks": ""
             }
            },
            "type": "scattergl"
           }
          ],
          "scattermapbox": [
           {
            "marker": {
             "colorbar": {
              "outlinewidth": 0,
              "ticks": ""
             }
            },
            "type": "scattermapbox"
           }
          ],
          "scatterpolar": [
           {
            "marker": {
             "colorbar": {
              "outlinewidth": 0,
              "ticks": ""
             }
            },
            "type": "scatterpolar"
           }
          ],
          "scatterpolargl": [
           {
            "marker": {
             "colorbar": {
              "outlinewidth": 0,
              "ticks": ""
             }
            },
            "type": "scatterpolargl"
           }
          ],
          "scatterternary": [
           {
            "marker": {
             "colorbar": {
              "outlinewidth": 0,
              "ticks": ""
             }
            },
            "type": "scatterternary"
           }
          ],
          "surface": [
           {
            "colorbar": {
             "outlinewidth": 0,
             "ticks": ""
            },
            "colorscale": [
             [
              0,
              "#0d0887"
             ],
             [
              0.1111111111111111,
              "#46039f"
             ],
             [
              0.2222222222222222,
              "#7201a8"
             ],
             [
              0.3333333333333333,
              "#9c179e"
             ],
             [
              0.4444444444444444,
              "#bd3786"
             ],
             [
              0.5555555555555556,
              "#d8576b"
             ],
             [
              0.6666666666666666,
              "#ed7953"
             ],
             [
              0.7777777777777778,
              "#fb9f3a"
             ],
             [
              0.8888888888888888,
              "#fdca26"
             ],
             [
              1,
              "#f0f921"
             ]
            ],
            "type": "surface"
           }
          ],
          "table": [
           {
            "cells": {
             "fill": {
              "color": "#EBF0F8"
             },
             "line": {
              "color": "white"
             }
            },
            "header": {
             "fill": {
              "color": "#C8D4E3"
             },
             "line": {
              "color": "white"
             }
            },
            "type": "table"
           }
          ]
         },
         "layout": {
          "annotationdefaults": {
           "arrowcolor": "#2a3f5f",
           "arrowhead": 0,
           "arrowwidth": 1
          },
          "autotypenumbers": "strict",
          "coloraxis": {
           "colorbar": {
            "outlinewidth": 0,
            "ticks": ""
           }
          },
          "colorscale": {
           "diverging": [
            [
             0,
             "#8e0152"
            ],
            [
             0.1,
             "#c51b7d"
            ],
            [
             0.2,
             "#de77ae"
            ],
            [
             0.3,
             "#f1b6da"
            ],
            [
             0.4,
             "#fde0ef"
            ],
            [
             0.5,
             "#f7f7f7"
            ],
            [
             0.6,
             "#e6f5d0"
            ],
            [
             0.7,
             "#b8e186"
            ],
            [
             0.8,
             "#7fbc41"
            ],
            [
             0.9,
             "#4d9221"
            ],
            [
             1,
             "#276419"
            ]
           ],
           "sequential": [
            [
             0,
             "#0d0887"
            ],
            [
             0.1111111111111111,
             "#46039f"
            ],
            [
             0.2222222222222222,
             "#7201a8"
            ],
            [
             0.3333333333333333,
             "#9c179e"
            ],
            [
             0.4444444444444444,
             "#bd3786"
            ],
            [
             0.5555555555555556,
             "#d8576b"
            ],
            [
             0.6666666666666666,
             "#ed7953"
            ],
            [
             0.7777777777777778,
             "#fb9f3a"
            ],
            [
             0.8888888888888888,
             "#fdca26"
            ],
            [
             1,
             "#f0f921"
            ]
           ],
           "sequentialminus": [
            [
             0,
             "#0d0887"
            ],
            [
             0.1111111111111111,
             "#46039f"
            ],
            [
             0.2222222222222222,
             "#7201a8"
            ],
            [
             0.3333333333333333,
             "#9c179e"
            ],
            [
             0.4444444444444444,
             "#bd3786"
            ],
            [
             0.5555555555555556,
             "#d8576b"
            ],
            [
             0.6666666666666666,
             "#ed7953"
            ],
            [
             0.7777777777777778,
             "#fb9f3a"
            ],
            [
             0.8888888888888888,
             "#fdca26"
            ],
            [
             1,
             "#f0f921"
            ]
           ]
          },
          "colorway": [
           "#636efa",
           "#EF553B",
           "#00cc96",
           "#ab63fa",
           "#FFA15A",
           "#19d3f3",
           "#FF6692",
           "#B6E880",
           "#FF97FF",
           "#FECB52"
          ],
          "font": {
           "color": "#2a3f5f"
          },
          "geo": {
           "bgcolor": "white",
           "lakecolor": "white",
           "landcolor": "#E5ECF6",
           "showlakes": true,
           "showland": true,
           "subunitcolor": "white"
          },
          "hoverlabel": {
           "align": "left"
          },
          "hovermode": "closest",
          "mapbox": {
           "style": "light"
          },
          "paper_bgcolor": "white",
          "plot_bgcolor": "#E5ECF6",
          "polar": {
           "angularaxis": {
            "gridcolor": "white",
            "linecolor": "white",
            "ticks": ""
           },
           "bgcolor": "#E5ECF6",
           "radialaxis": {
            "gridcolor": "white",
            "linecolor": "white",
            "ticks": ""
           }
          },
          "scene": {
           "xaxis": {
            "backgroundcolor": "#E5ECF6",
            "gridcolor": "white",
            "gridwidth": 2,
            "linecolor": "white",
            "showbackground": true,
            "ticks": "",
            "zerolinecolor": "white"
           },
           "yaxis": {
            "backgroundcolor": "#E5ECF6",
            "gridcolor": "white",
            "gridwidth": 2,
            "linecolor": "white",
            "showbackground": true,
            "ticks": "",
            "zerolinecolor": "white"
           },
           "zaxis": {
            "backgroundcolor": "#E5ECF6",
            "gridcolor": "white",
            "gridwidth": 2,
            "linecolor": "white",
            "showbackground": true,
            "ticks": "",
            "zerolinecolor": "white"
           }
          },
          "shapedefaults": {
           "line": {
            "color": "#2a3f5f"
           }
          },
          "ternary": {
           "aaxis": {
            "gridcolor": "white",
            "linecolor": "white",
            "ticks": ""
           },
           "baxis": {
            "gridcolor": "white",
            "linecolor": "white",
            "ticks": ""
           },
           "bgcolor": "#E5ECF6",
           "caxis": {
            "gridcolor": "white",
            "linecolor": "white",
            "ticks": ""
           }
          },
          "title": {
           "x": 0.05
          },
          "xaxis": {
           "automargin": true,
           "gridcolor": "white",
           "linecolor": "white",
           "ticks": "",
           "title": {
            "standoff": 15
           },
           "zerolinecolor": "white",
           "zerolinewidth": 2
          },
          "yaxis": {
           "automargin": true,
           "gridcolor": "white",
           "linecolor": "white",
           "ticks": "",
           "title": {
            "standoff": 15
           },
           "zerolinecolor": "white",
           "zerolinewidth": 2
          }
         }
        },
        "title": {
         "text": "Group IDs for group size = 2",
         "x": 0.5
        },
        "width": 600,
        "xaxis": {
         "anchor": "y",
         "domain": [
          0,
          1
         ],
         "title": {
          "text": "id1"
         }
        },
        "yaxis": {
         "anchor": "x",
         "domain": [
          0,
          1
         ],
         "title": {
          "text": "id2"
         }
        }
       }
      }
     },
     "metadata": {},
     "output_type": "display_data"
    }
   ],
   "source": [
    "# plot a scatterplot of the group's ids with the leftmost id on the x-axis and the rightmost id on the y-axis\n",
    "from plotly import express as px\n",
    "from plotly import graph_objects as go\n",
    "\n",
    "def getLeftID(string):\n",
    "    return int(string.split(\",\")[0][1:])\n",
    "def getRightID(string):\n",
    "    return int(string.split(\",\")[1][:-1])\n",
    "copy = groups2.copy()\n",
    "copy[\"id1\"] = copy[\"group\"].apply(lambda x: getLeftID(x))\n",
    "copy[\"id2\"] = copy[\"group\"].apply(lambda x: getRightID(x))\n",
    "\n",
    "fig1 = px.scatter(copy, x=\"id1\", y=\"id2\", title=\"Group IDs for group size = 2\", labels={\"id1\": \"id1\", \"id2\": \"id2\"})\n",
    "\n",
    "# Update the marker properties uniformly\n",
    "fig1.update_traces(marker=dict(size=8))  # Set uniform marker opacity\n",
    "\n",
    "# Add the red line trace so it appears on top\n",
    "fig1.add_shape(\n",
    "    type=\"line\",\n",
    "    x0=0, y0=0,\n",
    "    x1=560, y1=560,\n",
    "    line=dict(color=\"red\", width=2),\n",
    ")\n",
    "\n",
    "# fig size\n",
    "fig1.update_layout(width=600, height=560)\n",
    "# title in center\n",
    "fig1.update_layout(title_x=0.5)\n",
    "fig1.show()\n",
    "fig = go.Figure(data=[go.Scatter(x=copy[\"id1\"], y=copy[\"id2\"], mode='markers')])\n",
    "fig.write_image(plotsPath + \"dummyplot.pdf\") # Dummy plot needed because otherwise the real plot has a loading bar in the pdf\n",
    "# fig1.write_image(plotsPath + \"groupIDsForGroupSize2MinDur74520.pdf\")"
   ]
  },
  {
   "cell_type": "code",
   "execution_count": 184,
   "metadata": {},
   "outputs": [
    {
     "name": "stdout",
     "output_type": "stream",
     "text": [
      "108 of 111 groups have ids close to each other (97.3%)\n"
     ]
    }
   ],
   "source": [
    "# count the number of groups where the difference in leftmost id and rightmost id is <=4\n",
    "copy[\"diff\"] = copy[\"id2\"] - copy[\"id1\"]\n",
    "copy\n",
    "# count number of groups where the diff is <=4\n",
    "smalldiff = copy[copy[\"diff\"] <= 4].shape[0]\n",
    "copy\n",
    "print(str(smalldiff) + \" of \" + str(groups2.shape[0]) + \" groups have ids close to each other (\" + str(round(smalldiff/groups2.shape[0]*100, 1)) + \"%)\")"
   ]
  },
  {
   "cell_type": "code",
   "execution_count": 141,
   "metadata": {},
   "outputs": [],
   "source": [
    "min_dur = range(0, 259200, 3240)\n",
    "min_wei = 0\n",
    "\n",
    "contacts = pd.read_csv(contactsPath, delimiter=',', names=['id1', 'id2', 'tStart', 'tEnd', \"id1_start_pos_x\",\"id1_start_pos_y\",\"id2_start_pos_x\",\"id2_start_pos_y\",\"id1_end_pos_x\",\"id1_end_pos_y\",\"id2_end_pos_x\",\"id2_end_pos_y\"], skiprows=1)\n",
    "contacts = contacts.astype({'id1': int, 'id2': int, 'tStart': int, 'tEnd': int})\n",
    "\n",
    "# drop columns\n",
    "contacts = contacts.drop(columns=[\"id1_start_pos_x\",\"id1_start_pos_y\",\"id2_start_pos_x\",\"id2_start_pos_y\",\"id1_end_pos_x\",\"id1_end_pos_y\",\"id2_end_pos_x\",\"id2_end_pos_y\"])\n",
    "sortedContacts = contacts.sort_values(by=['tEnd'])\n",
    "# rename id1 to id2 and id2 to id1\n",
    "sortedContacts.rename(columns={'id1':'id2', 'id2':'id1'}, inplace=True)\n",
    "# swap values from id1 and id2\n",
    "sortedContacts['id1'], sortedContacts['id2'] = sortedContacts['id2'], sortedContacts['id1']\n",
    "\n",
    "dic2groups = dict()\n",
    "\n",
    "G2ValidSegments = createValidSegmentList(sortedContacts)\n",
    "vg_graph = construct_vg_graph(G2ValidSegments)\n",
    "# valid_groups = []\n",
    "# G2ValidSegments = createValidSegmentList(sortedContacts)\n",
    "# vg_graph = construct_vg_graph(G2ValidSegments)\n",
    "# VG_growth(vg_graph, set(), min_dur, min_wei, valid_groups)\n",
    "for duration in min_dur:\n",
    "    valid_groups = []\n",
    "\n",
    "    VG_growth(vg_graph, set(), duration, min_wei, valid_groups)\n",
    "\n",
    "    # sorted valid groups by duration\n",
    "    valid_groups = sorted(valid_groups, key=lambda x: x[1], reverse=True)\n",
    "    # if duration is 0 then remove it from the list\n",
    "    valid_groups = [(group, duration) for group, duration in valid_groups if duration > 0]\n",
    "    \n",
    "    valid_groups_df = pd.DataFrame(valid_groups, columns=['group', 'duration'])\n",
    "    valid_groups_df['group'] = valid_groups_df['group'].apply(lambda x: sorted(list(x)))\n",
    "    # get the groups that have len(group) == 2 \n",
    "    groups2 = valid_groups_df[valid_groups_df['group'].apply(lambda x: len(x) == 2)]\n",
    "\n",
    "    dic2groups[duration] = groups2\n",
    "\n",
    "    "
   ]
  },
  {
   "cell_type": "code",
   "execution_count": 142,
   "metadata": {},
   "outputs": [
    {
     "data": {
      "text/html": [
       "<div>\n",
       "<style scoped>\n",
       "    .dataframe tbody tr th:only-of-type {\n",
       "        vertical-align: middle;\n",
       "    }\n",
       "\n",
       "    .dataframe tbody tr th {\n",
       "        vertical-align: top;\n",
       "    }\n",
       "\n",
       "    .dataframe thead th {\n",
       "        text-align: right;\n",
       "    }\n",
       "</style>\n",
       "<table border=\"1\" class=\"dataframe\">\n",
       "  <thead>\n",
       "    <tr style=\"text-align: right;\">\n",
       "      <th></th>\n",
       "      <th>duration</th>\n",
       "      <th>numGroups</th>\n",
       "    </tr>\n",
       "  </thead>\n",
       "  <tbody>\n",
       "    <tr>\n",
       "      <th>0</th>\n",
       "      <td>0</td>\n",
       "      <td>1764</td>\n",
       "    </tr>\n",
       "    <tr>\n",
       "      <th>0</th>\n",
       "      <td>3240</td>\n",
       "      <td>1138</td>\n",
       "    </tr>\n",
       "    <tr>\n",
       "      <th>0</th>\n",
       "      <td>6480</td>\n",
       "      <td>902</td>\n",
       "    </tr>\n",
       "    <tr>\n",
       "      <th>0</th>\n",
       "      <td>9720</td>\n",
       "      <td>714</td>\n",
       "    </tr>\n",
       "    <tr>\n",
       "      <th>0</th>\n",
       "      <td>12960</td>\n",
       "      <td>599</td>\n",
       "    </tr>\n",
       "    <tr>\n",
       "      <th>...</th>\n",
       "      <td>...</td>\n",
       "      <td>...</td>\n",
       "    </tr>\n",
       "    <tr>\n",
       "      <th>0</th>\n",
       "      <td>243000</td>\n",
       "      <td>8</td>\n",
       "    </tr>\n",
       "    <tr>\n",
       "      <th>0</th>\n",
       "      <td>246240</td>\n",
       "      <td>4</td>\n",
       "    </tr>\n",
       "    <tr>\n",
       "      <th>0</th>\n",
       "      <td>249480</td>\n",
       "      <td>4</td>\n",
       "    </tr>\n",
       "    <tr>\n",
       "      <th>0</th>\n",
       "      <td>252720</td>\n",
       "      <td>0</td>\n",
       "    </tr>\n",
       "    <tr>\n",
       "      <th>0</th>\n",
       "      <td>255960</td>\n",
       "      <td>0</td>\n",
       "    </tr>\n",
       "  </tbody>\n",
       "</table>\n",
       "<p>80 rows × 2 columns</p>\n",
       "</div>"
      ],
      "text/plain": [
       "   duration numGroups\n",
       "0         0      1764\n",
       "0      3240      1138\n",
       "0      6480       902\n",
       "0      9720       714\n",
       "0     12960       599\n",
       "..      ...       ...\n",
       "0    243000         8\n",
       "0    246240         4\n",
       "0    249480         4\n",
       "0    252720         0\n",
       "0    255960         0\n",
       "\n",
       "[80 rows x 2 columns]"
      ]
     },
     "execution_count": 142,
     "metadata": {},
     "output_type": "execute_result"
    }
   ],
   "source": [
    "df = pd.DataFrame(columns=['duration', 'numGroups'])\n",
    "for time in dic2groups.keys():\n",
    "    # print(str(time) + \" \" + str(dic2groups[time].shape[0]))\n",
    "    df = pd.concat([df, pd.DataFrame([[time, dic2groups[time].shape[0]]], columns=['duration', 'numGroups'])])\n",
    "\n",
    "df"
   ]
  },
  {
   "cell_type": "code",
   "execution_count": null,
   "metadata": {},
   "outputs": [],
   "source": [
    "# plot the number of groups for each duration in a histogram\n",
    "fig = px.bar(df, x='duration', y='numGroups', title=\"Number of groups given min_dur\", labels={\"duration\": \"min_dur\", \"numGroups\": \"Number of groups\"})\n",
    "# adjust the size of the plot\n",
    "# title\n",
    "fig.update_layout(title_x=0.5)\n",
    "fig.update_layout(width=600, height=560)\n",
    "fig.show()"
   ]
  }
 ],
 "metadata": {
  "kernelspec": {
   "display_name": "mobvisenv",
   "language": "python",
   "name": "python3"
  },
  "language_info": {
   "codemirror_mode": {
    "name": "ipython",
    "version": 3
   },
   "file_extension": ".py",
   "mimetype": "text/x-python",
   "name": "python",
   "nbconvert_exporter": "python",
   "pygments_lexer": "ipython3",
   "version": "3.11.9"
  }
 },
 "nbformat": 4,
 "nbformat_minor": 2
}
